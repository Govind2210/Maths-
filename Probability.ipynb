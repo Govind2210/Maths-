{
 "cells": [
  {
   "cell_type": "markdown",
   "id": "5f0764dc",
   "metadata": {},
   "source": [
    " ### Conditional Probability\n",
    " \n",
    " - Conditional probability is defined as the likelihood of an event or outcome occurring, based on the occurrence of a previous event or outcome. Conditional probability is calculated by multiplying the probability of the preceding event by the updated probability of the succeeding, or conditional, event."
   ]
  },
  {
   "cell_type": "markdown",
   "id": "4de685b6",
   "metadata": {},
   "source": [
    "#### Independent Events in Probability\n",
    "\n",
    "- If the probability of occurrence of an event A is not affected by the occurrence of another event B, then A and B are said to be independent events. P(A) = P(A│B) = 1/2 "
   ]
  },
  {
   "cell_type": "markdown",
   "id": "b68919f3",
   "metadata": {},
   "source": [
    "### Mutually Exclusive\n",
    "\n",
    "- In logic and probability theory, two events (or propositions) are mutually exclusive or disjoint if they cannot both occur at the same time."
   ]
  },
  {
   "cell_type": "markdown",
   "id": "2aeac5ed",
   "metadata": {},
   "source": [
    "####  Bayes Theorem in Probability\n",
    "\n",
    "- What is Bayes probability theorem?\n",
    "Bayes' Theorem states that the conditional probability of an event, based on the occurrence of another event, is equal to the likelihood of the second event given the first event multiplied by the probability of the first event."
   ]
  },
  {
   "cell_type": "markdown",
   "id": "da1399d3",
   "metadata": {},
   "source": [
    "#### Probability Distributions\n",
    "\n",
    "- A probability distribution depicts the expected outcomes of possible values for a given data generating process. Probability distributions come in many shapes with different characteristics, as defined by the mean, standard deviation, skewness, and kurtosis"
   ]
  },
  {
   "cell_type": "markdown",
   "id": "b7a6b185",
   "metadata": {},
   "source": [
    "### Discrete Uniform Distribution\n",
    "\n",
    "- the discrete uniform distribution is a symmetric probability distribution wherein a finite number of values are equally likely to be observed; every one of n values has equal probability 1/n."
   ]
  },
  {
   "cell_type": "markdown",
   "id": "02e8ed06",
   "metadata": {},
   "source": [
    "#### Binomial Distribution\n",
    "\n",
    "- the binomial distribution with parameters n and p is the discrete probability distribution of the number of successes in a sequence of n independent experiments, each asking a yes–no question, and each with its own Boolean-valued outcome: success (with probability p) or failure (with probability q = 1 − p)"
   ]
  },
  {
   "cell_type": "markdown",
   "id": "3658e69a",
   "metadata": {},
   "source": [
    "#### The Bernoulli distribution\n",
    "\n",
    "- The Bernoulli distribution is a special case of the binomial distribution where a single trial is conducted (so n would be 1 for such a binomial distribution)\n"
   ]
  },
  {
   "cell_type": "markdown",
   "id": "2e0e9f97",
   "metadata": {},
   "source": [
    "#### Poisson distribution\n",
    "\n",
    "-  the Poisson distribution is a discrete probability distribution that expresses the probability of a given number of events occurring in a fixed interval of time or space if these events occur with a known constant mean rate and independently of the time since the last event."
   ]
  },
  {
   "cell_type": "code",
   "execution_count": null,
   "id": "41320c44",
   "metadata": {},
   "outputs": [],
   "source": []
  }
 ],
 "metadata": {
  "kernelspec": {
   "display_name": "Python 3",
   "language": "python",
   "name": "python3"
  },
  "language_info": {
   "codemirror_mode": {
    "name": "ipython",
    "version": 3
   },
   "file_extension": ".py",
   "mimetype": "text/x-python",
   "name": "python",
   "nbconvert_exporter": "python",
   "pygments_lexer": "ipython3",
   "version": "3.8.8"
  }
 },
 "nbformat": 4,
 "nbformat_minor": 5
}
