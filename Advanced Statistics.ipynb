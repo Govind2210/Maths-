{
 "cells": [
  {
   "cell_type": "markdown",
   "id": "bf42388b",
   "metadata": {},
   "source": [
    "### Statistics\n",
    "\n",
    "### Population Vs Sample\n",
    "\n",
    "1. population - collection of all the items of intersted to our study ( N ) parameter\n",
    "\n",
    "2. Sample - The subset of population ( n ) statistics"
   ]
  },
  {
   "cell_type": "markdown",
   "id": "f62acfae",
   "metadata": {},
   "source": [
    "### Covariance\n",
    "\n",
    "- Covariance measures the direction of the relationship between two variables.\n",
    "- A positive covariance means that both variables tend to be high or low at the same time. A negative covariance means that when one variable is high, the other tends to be low."
   ]
  },
  {
   "cell_type": "markdown",
   "id": "f0276b16",
   "metadata": {},
   "source": [
    "### Corrrelation\n",
    "\n",
    "- Correlation is a statistical term describing the degree to which two variables move in coordination with one another\n",
    "\n",
    "r=∑(x−mx)(y−my)√∑(x−mx)2∑(y−my)2."
   ]
  },
  {
   "cell_type": "markdown",
   "id": "657f600e",
   "metadata": {},
   "source": [
    "### Quantile-Quantile Plots \n",
    "\n",
    "- The quantile-quantile (q-q) plot is a graphical technique for determining if two data sets come from populations with a common distribution"
   ]
  },
  {
   "cell_type": "markdown",
   "id": "90671f1b",
   "metadata": {},
   "source": [
    "### Confidence Intervals\n",
    "\n",
    "A confidence interval displays the probability that a parameter will fall between a pair of values around the mean. Confidence intervals measure the degree of uncertainty or certainty in a sampling method. They are most often constructed using confidence levels of 95% or 99%."
   ]
  },
  {
   "cell_type": "markdown",
   "id": "d6088982",
   "metadata": {},
   "source": [
    "### Hypothesis Testing and The Null Hypothesis"
   ]
  },
  {
   "cell_type": "markdown",
   "id": "0bf0c1a5",
   "metadata": {},
   "source": [
    "- Null Hypothesis\n",
    "\n",
    "-- The null hypothesis is a typical statistical theory which suggests that no statistical relationship and significance exists in a set of given single observed variable, between two sets of observed data and measured phenomena."
   ]
  },
  {
   "cell_type": "markdown",
   "id": "31b274b9",
   "metadata": {},
   "source": [
    "- Hypothesis Testing\n",
    "\n",
    "-- Alternative hypothesis is often denoted as Ha or H1. In statistical hypothesis testing, to prove the alternative hypothesis is true, it should be show that the data is contradictory to the null hypothesis"
   ]
  },
  {
   "cell_type": "markdown",
   "id": "16ab6688",
   "metadata": {},
   "source": [
    "### Wilcoxon Rank Sum Testing\n",
    "\n",
    "- The Wilcoxon test is based upon ranking the nA + nB observations of the combined sample. Each observation has a rank: the smallest has rank 1, the 2nd smallest rank 2, and so on. The Wilcoxon rank-sum test statistic is the sum of the ranks for observations from one of the samples."
   ]
  },
  {
   "cell_type": "markdown",
   "id": "257f5d86",
   "metadata": {},
   "source": [
    " ### T - test ( one Numberical test )\n",
    " \n",
    " - A t-test is a type of inferential statistic used to determine if there is a significant difference between the means of two groups, which may be related in certain features.\n",
    " - The t-test is one of many tests used for the purpose of hypothesis testing in statistics. Calculating a t-test requires three key data values.\n",
    " - p <= 0.5"
   ]
  },
  {
   "cell_type": "markdown",
   "id": "4acad71a",
   "metadata": {},
   "source": [
    "### Chi Square Test ( two cateogrical faetures)\n",
    "\n",
    "- The chi-square test is a hypothesis test designed to test for a statistically significant relationship between nominal and ordinal variables organized in a bivariate table. \n",
    "- In other words, it tells us whether two variables are independent of one another"
   ]
  },
  {
   "cell_type": "markdown",
   "id": "64c63b5b",
   "metadata": {},
   "source": [
    "### One sample proportion test (One cateogrical test)\n",
    "\n",
    "- The One Sample Proportion Test is used to estimate the proportion of a population. \n",
    "- It compares the proportion to a target or reference value and also calculates a range of values that is likely to include the population proportion"
   ]
  },
  {
   "cell_type": "markdown",
   "id": "15cb7f0a",
   "metadata": {},
   "source": [
    "### Anova Test (cateogrical  more than cateogary)\n",
    "\n",
    "Analysis of variance, or ANOVA, is a statistical method that separates observed variance data into different components to use for additional tests. A one-way ANOVA is used for three or more groups of data, to gain information about the relationship between the dependent and independent variables."
   ]
  },
  {
   "cell_type": "code",
   "execution_count": null,
   "id": "4d7f0127",
   "metadata": {},
   "outputs": [],
   "source": []
  }
 ],
 "metadata": {
  "kernelspec": {
   "display_name": "Python 3",
   "language": "python",
   "name": "python3"
  },
  "language_info": {
   "codemirror_mode": {
    "name": "ipython",
    "version": 3
   },
   "file_extension": ".py",
   "mimetype": "text/x-python",
   "name": "python",
   "nbconvert_exporter": "python",
   "pygments_lexer": "ipython3",
   "version": "3.8.8"
  }
 },
 "nbformat": 4,
 "nbformat_minor": 5
}
