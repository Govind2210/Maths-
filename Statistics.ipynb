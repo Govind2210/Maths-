{
 "cells": [
  {
   "cell_type": "code",
   "execution_count": 3,
   "id": "deaeb359",
   "metadata": {},
   "outputs": [],
   "source": [
    "import numpy as np\n",
    "import pandas as pd\n",
    "import matplotlib.pyplot as plt\n",
    "import seaborn as sns"
   ]
  },
  {
   "cell_type": "code",
   "execution_count": 4,
   "id": "4793283d",
   "metadata": {},
   "outputs": [],
   "source": [
    "df = pd.read_csv(r\"C:\\Users\\Govind\\Desktop\\Gogo\\CSV\\Car_details.csv\")"
   ]
  },
  {
   "cell_type": "code",
   "execution_count": 5,
   "id": "2ea38da9",
   "metadata": {},
   "outputs": [
    {
     "data": {
      "text/html": [
       "<div>\n",
       "<style scoped>\n",
       "    .dataframe tbody tr th:only-of-type {\n",
       "        vertical-align: middle;\n",
       "    }\n",
       "\n",
       "    .dataframe tbody tr th {\n",
       "        vertical-align: top;\n",
       "    }\n",
       "\n",
       "    .dataframe thead th {\n",
       "        text-align: right;\n",
       "    }\n",
       "</style>\n",
       "<table border=\"1\" class=\"dataframe\">\n",
       "  <thead>\n",
       "    <tr style=\"text-align: right;\">\n",
       "      <th></th>\n",
       "      <th>name</th>\n",
       "      <th>year</th>\n",
       "      <th>selling_price</th>\n",
       "      <th>km_driven</th>\n",
       "      <th>fuel</th>\n",
       "      <th>seller_type</th>\n",
       "      <th>transmission</th>\n",
       "      <th>owner</th>\n",
       "    </tr>\n",
       "  </thead>\n",
       "  <tbody>\n",
       "    <tr>\n",
       "      <th>0</th>\n",
       "      <td>Maruti 800 AC</td>\n",
       "      <td>2007</td>\n",
       "      <td>60000</td>\n",
       "      <td>70000</td>\n",
       "      <td>Petrol</td>\n",
       "      <td>Individual</td>\n",
       "      <td>Manual</td>\n",
       "      <td>First Owner</td>\n",
       "    </tr>\n",
       "    <tr>\n",
       "      <th>1</th>\n",
       "      <td>Maruti Wagon R LXI Minor</td>\n",
       "      <td>2007</td>\n",
       "      <td>135000</td>\n",
       "      <td>50000</td>\n",
       "      <td>Petrol</td>\n",
       "      <td>Individual</td>\n",
       "      <td>Manual</td>\n",
       "      <td>First Owner</td>\n",
       "    </tr>\n",
       "    <tr>\n",
       "      <th>2</th>\n",
       "      <td>Hyundai Verna 1.6 SX</td>\n",
       "      <td>2012</td>\n",
       "      <td>600000</td>\n",
       "      <td>100000</td>\n",
       "      <td>Diesel</td>\n",
       "      <td>Individual</td>\n",
       "      <td>Manual</td>\n",
       "      <td>First Owner</td>\n",
       "    </tr>\n",
       "    <tr>\n",
       "      <th>3</th>\n",
       "      <td>Datsun RediGO T Option</td>\n",
       "      <td>2017</td>\n",
       "      <td>250000</td>\n",
       "      <td>46000</td>\n",
       "      <td>Petrol</td>\n",
       "      <td>Individual</td>\n",
       "      <td>Manual</td>\n",
       "      <td>First Owner</td>\n",
       "    </tr>\n",
       "    <tr>\n",
       "      <th>4</th>\n",
       "      <td>Honda Amaze VX i-DTEC</td>\n",
       "      <td>2014</td>\n",
       "      <td>450000</td>\n",
       "      <td>141000</td>\n",
       "      <td>Diesel</td>\n",
       "      <td>Individual</td>\n",
       "      <td>Manual</td>\n",
       "      <td>Second Owner</td>\n",
       "    </tr>\n",
       "  </tbody>\n",
       "</table>\n",
       "</div>"
      ],
      "text/plain": [
       "                       name  year  selling_price  km_driven    fuel  \\\n",
       "0             Maruti 800 AC  2007          60000      70000  Petrol   \n",
       "1  Maruti Wagon R LXI Minor  2007         135000      50000  Petrol   \n",
       "2      Hyundai Verna 1.6 SX  2012         600000     100000  Diesel   \n",
       "3    Datsun RediGO T Option  2017         250000      46000  Petrol   \n",
       "4     Honda Amaze VX i-DTEC  2014         450000     141000  Diesel   \n",
       "\n",
       "  seller_type transmission         owner  \n",
       "0  Individual       Manual   First Owner  \n",
       "1  Individual       Manual   First Owner  \n",
       "2  Individual       Manual   First Owner  \n",
       "3  Individual       Manual   First Owner  \n",
       "4  Individual       Manual  Second Owner  "
      ]
     },
     "execution_count": 5,
     "metadata": {},
     "output_type": "execute_result"
    }
   ],
   "source": [
    "df.head()"
   ]
  },
  {
   "cell_type": "markdown",
   "id": "2406d53c",
   "metadata": {},
   "source": [
    "# Working with single data/variable ---> day 1"
   ]
  },
  {
   "cell_type": "markdown",
   "id": "74bef087",
   "metadata": {},
   "source": [
    "# 1. Working with Qualitative/Categorical data"
   ]
  },
  {
   "cell_type": "raw",
   "id": "01e09746",
   "metadata": {},
   "source": [
    "a. Frequency Distribution Table\n",
    "\n",
    "\n",
    "Frequency tells you how often something happened. \n",
    "The frequency of an observation tells you the number of times the observation occurs in the data.  \n",
    "\n",
    "For example, in the following list of numbers,\n",
    "the frequency of the number 9 is 5 (because it occurs 5 times) 1, 2, 3, 4, 6, 9, 9, 8, 5, 1, 1, 9, 9, 0, 6, 9."
   ]
  },
  {
   "cell_type": "code",
   "execution_count": 6,
   "id": "3a2bf83c",
   "metadata": {},
   "outputs": [
    {
     "data": {
      "text/plain": [
       "Index(['name', 'year', 'selling_price', 'km_driven', 'fuel', 'seller_type',\n",
       "       'transmission', 'owner'],\n",
       "      dtype='object')"
      ]
     },
     "execution_count": 6,
     "metadata": {},
     "output_type": "execute_result"
    }
   ],
   "source": [
    "df.columns"
   ]
  },
  {
   "cell_type": "code",
   "execution_count": 7,
   "id": "37a0fc06",
   "metadata": {},
   "outputs": [
    {
     "data": {
      "text/plain": [
       "Diesel      2153\n",
       "Petrol      2123\n",
       "CNG           40\n",
       "LPG           23\n",
       "Electric       1\n",
       "Name: fuel, dtype: int64"
      ]
     },
     "execution_count": 7,
     "metadata": {},
     "output_type": "execute_result"
    }
   ],
   "source": [
    "df['fuel'].value_counts()"
   ]
  },
  {
   "cell_type": "markdown",
   "id": "b0747e0a",
   "metadata": {},
   "source": [
    "# bar chat"
   ]
  },
  {
   "cell_type": "code",
   "execution_count": 8,
   "id": "2c244bed",
   "metadata": {},
   "outputs": [
    {
     "data": {
      "text/plain": [
       "<AxesSubplot:>"
      ]
     },
     "execution_count": 8,
     "metadata": {},
     "output_type": "execute_result"
    },
    {
     "data": {
      "image/png": "[encoded data removed]",
      "text/plain": [
       "<Figure size 432x288 with 1 Axes>"
      ]
     },
     "metadata": {
      "needs_background": "light"
     },
     "output_type": "display_data"
    }
   ],
   "source": [
    "df['fuel'].value_counts().plot(kind = 'bar')"
   ]
  },
  {
   "cell_type": "markdown",
   "id": "729ce9ff",
   "metadata": {},
   "source": [
    "# pie chart"
   ]
  },
  {
   "cell_type": "code",
   "execution_count": 9,
   "id": "57db8654",
   "metadata": {},
   "outputs": [
    {
     "data": {
      "text/plain": [
       "<AxesSubplot:ylabel='fuel'>"
      ]
     },
     "execution_count": 9,
     "metadata": {},
     "output_type": "execute_result"
    },
    {
     "data": {
      "image/png": "[encoded data removed]",
      "text/plain": [
       "<Figure size 432x288 with 1 Axes>"
      ]
     },
     "metadata": {},
     "output_type": "display_data"
    }
   ],
   "source": [
    "df['fuel'].value_counts().plot(kind = 'pie' , autopct = '%0.2f')"
   ]
  },
  {
   "cell_type": "markdown",
   "id": "04383525",
   "metadata": {},
   "source": [
    "# Cumulative Frequency"
   ]
  },
  {
   "cell_type": "raw",
   "id": "70a270c6",
   "metadata": {},
   "source": [
    "The frequency is the number of times an event occurs within a given scenario. \n",
    "Cumulative frequency is defined as the running total of frequencies. \n",
    "It is the sum of all the previous frequencies up to the current point. \n",
    "It is easily understandable through a Cumulative Frequency Table."
   ]
  },
  {
   "cell_type": "code",
   "execution_count": 10,
   "id": "2d4083c0",
   "metadata": {},
   "outputs": [],
   "source": [
    "a=df['fuel'].value_counts()"
   ]
  },
  {
   "cell_type": "code",
   "execution_count": 11,
   "id": "bb653e1a",
   "metadata": {},
   "outputs": [],
   "source": [
    "b=((a/a.sum())*100).values"
   ]
  },
  {
   "cell_type": "code",
   "execution_count": 12,
   "id": "e3999445",
   "metadata": {},
   "outputs": [
    {
     "data": {
      "text/plain": [
       "array([4.96082949e+01, 4.89170507e+01, 9.21658986e-01, 5.29953917e-01,\n",
       "       2.30414747e-02])"
      ]
     },
     "execution_count": 12,
     "metadata": {},
     "output_type": "execute_result"
    }
   ],
   "source": [
    "b"
   ]
  },
  {
   "cell_type": "code",
   "execution_count": 13,
   "id": "eedd41bf",
   "metadata": {},
   "outputs": [],
   "source": [
    "c=[]\n",
    "cf=0\n",
    "for i in b:\n",
    "    cf=cf + i\n",
    "    c.append(cf)"
   ]
  },
  {
   "cell_type": "code",
   "execution_count": 14,
   "id": "bcfc0a70",
   "metadata": {},
   "outputs": [
    {
     "data": {
      "text/plain": [
       "[<matplotlib.lines.Line2D at 0x25d86150460>]"
      ]
     },
     "execution_count": 14,
     "metadata": {},
     "output_type": "execute_result"
    },
    {
     "data": {
      "image/png": "[encoded data removed]",
      "text/plain": [
       "<Figure size 432x288 with 1 Axes>"
      ]
     },
     "metadata": {
      "needs_background": "light"
     },
     "output_type": "display_data"
    }
   ],
   "source": [
    "plt.plot(c, marker='D')"
   ]
  },
  {
   "cell_type": "markdown",
   "id": "04ae1517",
   "metadata": {},
   "source": [
    "# 2. Working with Quantitative/Numerical data"
   ]
  },
  {
   "cell_type": "markdown",
   "id": "4a5e4ad8",
   "metadata": {},
   "source": [
    "# a. Histograms"
   ]
  },
  {
   "cell_type": "code",
   "execution_count": 15,
   "id": "ddf82a50",
   "metadata": {},
   "outputs": [],
   "source": [
    "df1 = df['year'].values"
   ]
  },
  {
   "cell_type": "code",
   "execution_count": 16,
   "id": "902d0556",
   "metadata": {},
   "outputs": [
    {
     "data": {
      "text/plain": [
       "(array([1.000e+00, 6.000e+00, 3.400e+01, 6.400e+01, 1.270e+02, 3.890e+02,\n",
       "        6.980e+02, 1.168e+03, 1.244e+03, 6.090e+02]),\n",
       " array([1992. , 1994.8, 1997.6, 2000.4, 2003.2, 2006. , 2008.8, 2011.6,\n",
       "        2014.4, 2017.2, 2020. ]),\n",
       " <BarContainer object of 10 artists>)"
      ]
     },
     "execution_count": 16,
     "metadata": {},
     "output_type": "execute_result"
    },
    {
     "data": {
      "image/png": "[encoded data removed]",
      "text/plain": [
       "<Figure size 432x288 with 1 Axes>"
      ]
     },
     "metadata": {
      "needs_background": "light"
     },
     "output_type": "display_data"
    }
   ],
   "source": [
    "plt.hist(df1)"
   ]
  },
  {
   "cell_type": "markdown",
   "id": "ed9378e6",
   "metadata": {},
   "source": [
    "# boxplot"
   ]
  },
  {
   "cell_type": "code",
   "execution_count": 17,
   "id": "946510a4",
   "metadata": {},
   "outputs": [
    {
     "name": "stderr",
     "output_type": "stream",
     "text": [
      "C:\\anaconda\\lib\\site-packages\\seaborn\\_decorators.py:36: FutureWarning: Pass the following variable as a keyword arg: x. From version 0.12, the only valid positional argument will be `data`, and passing other arguments without an explicit keyword will result in an error or misinterpretation.\n",
      "  warnings.warn(\n"
     ]
    },
    {
     "data": {
      "text/plain": [
       "<AxesSubplot:xlabel='year'>"
      ]
     },
     "execution_count": 17,
     "metadata": {},
     "output_type": "execute_result"
    },
    {
     "data": {
      "image/png": "[encoded data removed]",
      "text/plain": [
       "<Figure size 432x288 with 1 Axes>"
      ]
     },
     "metadata": {
      "needs_background": "light"
     },
     "output_type": "display_data"
    }
   ],
   "source": [
    "sns.boxplot('year' , data = df)"
   ]
  },
  {
   "cell_type": "markdown",
   "id": "532d939c",
   "metadata": {},
   "source": [
    "# kdeplot"
   ]
  },
  {
   "cell_type": "code",
   "execution_count": 18,
   "id": "85479b01",
   "metadata": {},
   "outputs": [
    {
     "data": {
      "text/plain": [
       "<AxesSubplot:xlabel='year', ylabel='Density'>"
      ]
     },
     "execution_count": 18,
     "metadata": {},
     "output_type": "execute_result"
    },
    {
     "data": {
      "image/png": "[encoded data removed]",
      "text/plain": [
       "<Figure size 432x288 with 1 Axes>"
      ]
     },
     "metadata": {
      "needs_background": "light"
     },
     "output_type": "display_data"
    }
   ],
   "source": [
    "sns.kdeplot(df['year'])"
   ]
  },
  {
   "cell_type": "markdown",
   "id": "6ad321e0",
   "metadata": {},
   "source": [
    "# Working with 2 variables/data (Bivariate Analysis)\n",
    "1. Categorical Vs Numerical"
   ]
  },
  {
   "cell_type": "raw",
   "id": "72d0ab25",
   "metadata": {},
   "source": [
    "boxplot"
   ]
  },
  {
   "cell_type": "code",
   "execution_count": 19,
   "id": "58f5e596",
   "metadata": {},
   "outputs": [
    {
     "data": {
      "text/plain": [
       "<AxesSubplot:xlabel='fuel', ylabel='year'>"
      ]
     },
     "execution_count": 19,
     "metadata": {},
     "output_type": "execute_result"
    },
    {
     "data": {
      "image/png": "[encoded data removed]",
      "text/plain": [
       "<Figure size 432x288 with 1 Axes>"
      ]
     },
     "metadata": {
      "needs_background": "light"
     },
     "output_type": "display_data"
    }
   ],
   "source": [
    "sns.boxplot(x = 'fuel' , y = 'year' , data = df)"
   ]
  },
  {
   "cell_type": "raw",
   "id": "d29a1db2",
   "metadata": {},
   "source": [
    "b. Bar Plot"
   ]
  },
  {
   "cell_type": "code",
   "execution_count": 20,
   "id": "c6e14362",
   "metadata": {},
   "outputs": [
    {
     "data": {
      "text/plain": [
       "<AxesSubplot:xlabel='transmission', ylabel='year'>"
      ]
     },
     "execution_count": 20,
     "metadata": {},
     "output_type": "execute_result"
    },
    {
     "data": {
      "image/png": "[encoded data removed]",
      "text/plain": [
       "<Figure size 432x288 with 1 Axes>"
      ]
     },
     "metadata": {
      "needs_background": "light"
     },
     "output_type": "display_data"
    }
   ],
   "source": [
    "sns.barplot(x = 'transmission' , y = 'year' , data = df)"
   ]
  },
  {
   "cell_type": "markdown",
   "id": "ee876581",
   "metadata": {},
   "source": [
    "# 2. Numerical Vs Numerical"
   ]
  },
  {
   "cell_type": "raw",
   "id": "6e1c5127",
   "metadata": {},
   "source": [
    "a. Scatter Plot"
   ]
  },
  {
   "cell_type": "code",
   "execution_count": 21,
   "id": "8e81352a",
   "metadata": {},
   "outputs": [
    {
     "data": {
      "text/plain": [
       "<matplotlib.collections.PathCollection at 0x25d86a9abb0>"
      ]
     },
     "execution_count": 21,
     "metadata": {},
     "output_type": "execute_result"
    },
    {
     "data": {
      "image/png": "[encoded data removed]",
      "text/plain": [
       "<Figure size 432x288 with 1 Axes>"
      ]
     },
     "metadata": {
      "needs_background": "light"
     },
     "output_type": "display_data"
    }
   ],
   "source": [
    "m = df['selling_price'].values\n",
    "n = df['year'].values\n",
    "\n",
    "plt.scatter(m,n)"
   ]
  },
  {
   "cell_type": "markdown",
   "id": "4172fbec",
   "metadata": {},
   "source": [
    "# 3. Categorical Vs Categorical"
   ]
  },
  {
   "cell_type": "raw",
   "id": "af0ce56a",
   "metadata": {},
   "source": [
    "a. Cross Tables/Contingency Table\n",
    "\n",
    "In statistics, a contingency table (also known as a cross tabulation or crosstab) is a type of table in a matrix format that displays the (multivariate) frequency distribution of the variables."
   ]
  },
  {
   "cell_type": "code",
   "execution_count": 22,
   "id": "03b40540",
   "metadata": {},
   "outputs": [],
   "source": [
    "ct=pd.crosstab(df['fuel'],df['year'])"
   ]
  },
  {
   "cell_type": "code",
   "execution_count": 23,
   "id": "d1b10bca",
   "metadata": {},
   "outputs": [
    {
     "data": {
      "text/html": [
       "<div>\n",
       "<style scoped>\n",
       "    .dataframe tbody tr th:only-of-type {\n",
       "        vertical-align: middle;\n",
       "    }\n",
       "\n",
       "    .dataframe tbody tr th {\n",
       "        vertical-align: top;\n",
       "    }\n",
       "\n",
       "    .dataframe thead th {\n",
       "        text-align: right;\n",
       "    }\n",
       "</style>\n",
       "<table border=\"1\" class=\"dataframe\">\n",
       "  <thead>\n",
       "    <tr style=\"text-align: right;\">\n",
       "      <th>year</th>\n",
       "      <th>1992</th>\n",
       "      <th>1995</th>\n",
       "      <th>1996</th>\n",
       "      <th>1997</th>\n",
       "      <th>1998</th>\n",
       "      <th>1999</th>\n",
       "      <th>2000</th>\n",
       "      <th>2001</th>\n",
       "      <th>2002</th>\n",
       "      <th>2003</th>\n",
       "      <th>...</th>\n",
       "      <th>2011</th>\n",
       "      <th>2012</th>\n",
       "      <th>2013</th>\n",
       "      <th>2014</th>\n",
       "      <th>2015</th>\n",
       "      <th>2016</th>\n",
       "      <th>2017</th>\n",
       "      <th>2018</th>\n",
       "      <th>2019</th>\n",
       "      <th>2020</th>\n",
       "    </tr>\n",
       "    <tr>\n",
       "      <th>fuel</th>\n",
       "      <th></th>\n",
       "      <th></th>\n",
       "      <th></th>\n",
       "      <th></th>\n",
       "      <th></th>\n",
       "      <th></th>\n",
       "      <th></th>\n",
       "      <th></th>\n",
       "      <th></th>\n",
       "      <th></th>\n",
       "      <th></th>\n",
       "      <th></th>\n",
       "      <th></th>\n",
       "      <th></th>\n",
       "      <th></th>\n",
       "      <th></th>\n",
       "      <th></th>\n",
       "      <th></th>\n",
       "      <th></th>\n",
       "      <th></th>\n",
       "      <th></th>\n",
       "    </tr>\n",
       "  </thead>\n",
       "  <tbody>\n",
       "    <tr>\n",
       "      <th>CNG</th>\n",
       "      <td>0</td>\n",
       "      <td>0</td>\n",
       "      <td>0</td>\n",
       "      <td>0</td>\n",
       "      <td>0</td>\n",
       "      <td>0</td>\n",
       "      <td>0</td>\n",
       "      <td>0</td>\n",
       "      <td>0</td>\n",
       "      <td>0</td>\n",
       "      <td>...</td>\n",
       "      <td>2</td>\n",
       "      <td>4</td>\n",
       "      <td>5</td>\n",
       "      <td>2</td>\n",
       "      <td>0</td>\n",
       "      <td>3</td>\n",
       "      <td>4</td>\n",
       "      <td>2</td>\n",
       "      <td>4</td>\n",
       "      <td>2</td>\n",
       "    </tr>\n",
       "    <tr>\n",
       "      <th>Diesel</th>\n",
       "      <td>0</td>\n",
       "      <td>0</td>\n",
       "      <td>2</td>\n",
       "      <td>1</td>\n",
       "      <td>0</td>\n",
       "      <td>1</td>\n",
       "      <td>1</td>\n",
       "      <td>3</td>\n",
       "      <td>5</td>\n",
       "      <td>5</td>\n",
       "      <td>...</td>\n",
       "      <td>161</td>\n",
       "      <td>267</td>\n",
       "      <td>269</td>\n",
       "      <td>224</td>\n",
       "      <td>228</td>\n",
       "      <td>181</td>\n",
       "      <td>229</td>\n",
       "      <td>167</td>\n",
       "      <td>83</td>\n",
       "      <td>15</td>\n",
       "    </tr>\n",
       "    <tr>\n",
       "      <th>Electric</th>\n",
       "      <td>0</td>\n",
       "      <td>0</td>\n",
       "      <td>0</td>\n",
       "      <td>0</td>\n",
       "      <td>0</td>\n",
       "      <td>0</td>\n",
       "      <td>0</td>\n",
       "      <td>0</td>\n",
       "      <td>0</td>\n",
       "      <td>0</td>\n",
       "      <td>...</td>\n",
       "      <td>0</td>\n",
       "      <td>0</td>\n",
       "      <td>0</td>\n",
       "      <td>0</td>\n",
       "      <td>0</td>\n",
       "      <td>0</td>\n",
       "      <td>0</td>\n",
       "      <td>0</td>\n",
       "      <td>0</td>\n",
       "      <td>0</td>\n",
       "    </tr>\n",
       "    <tr>\n",
       "      <th>LPG</th>\n",
       "      <td>0</td>\n",
       "      <td>0</td>\n",
       "      <td>0</td>\n",
       "      <td>0</td>\n",
       "      <td>1</td>\n",
       "      <td>0</td>\n",
       "      <td>0</td>\n",
       "      <td>0</td>\n",
       "      <td>0</td>\n",
       "      <td>0</td>\n",
       "      <td>...</td>\n",
       "      <td>2</td>\n",
       "      <td>5</td>\n",
       "      <td>2</td>\n",
       "      <td>2</td>\n",
       "      <td>1</td>\n",
       "      <td>0</td>\n",
       "      <td>0</td>\n",
       "      <td>0</td>\n",
       "      <td>0</td>\n",
       "      <td>0</td>\n",
       "    </tr>\n",
       "    <tr>\n",
       "      <th>Petrol</th>\n",
       "      <td>1</td>\n",
       "      <td>1</td>\n",
       "      <td>0</td>\n",
       "      <td>2</td>\n",
       "      <td>11</td>\n",
       "      <td>9</td>\n",
       "      <td>11</td>\n",
       "      <td>17</td>\n",
       "      <td>16</td>\n",
       "      <td>18</td>\n",
       "      <td>...</td>\n",
       "      <td>106</td>\n",
       "      <td>139</td>\n",
       "      <td>110</td>\n",
       "      <td>139</td>\n",
       "      <td>192</td>\n",
       "      <td>173</td>\n",
       "      <td>233</td>\n",
       "      <td>197</td>\n",
       "      <td>108</td>\n",
       "      <td>31</td>\n",
       "    </tr>\n",
       "  </tbody>\n",
       "</table>\n",
       "<p>5 rows × 27 columns</p>\n",
       "</div>"
      ],
      "text/plain": [
       "year      1992  1995  1996  1997  1998  1999  2000  2001  2002  2003  ...  \\\n",
       "fuel                                                                  ...   \n",
       "CNG          0     0     0     0     0     0     0     0     0     0  ...   \n",
       "Diesel       0     0     2     1     0     1     1     3     5     5  ...   \n",
       "Electric     0     0     0     0     0     0     0     0     0     0  ...   \n",
       "LPG          0     0     0     0     1     0     0     0     0     0  ...   \n",
       "Petrol       1     1     0     2    11     9    11    17    16    18  ...   \n",
       "\n",
       "year      2011  2012  2013  2014  2015  2016  2017  2018  2019  2020  \n",
       "fuel                                                                  \n",
       "CNG          2     4     5     2     0     3     4     2     4     2  \n",
       "Diesel     161   267   269   224   228   181   229   167    83    15  \n",
       "Electric     0     0     0     0     0     0     0     0     0     0  \n",
       "LPG          2     5     2     2     1     0     0     0     0     0  \n",
       "Petrol     106   139   110   139   192   173   233   197   108    31  \n",
       "\n",
       "[5 rows x 27 columns]"
      ]
     },
     "execution_count": 23,
     "metadata": {},
     "output_type": "execute_result"
    }
   ],
   "source": [
    "ct"
   ]
  },
  {
   "cell_type": "raw",
   "id": "55ed8a87",
   "metadata": {},
   "source": [
    "b. Side by side bar chart"
   ]
  },
  {
   "cell_type": "code",
   "execution_count": 25,
   "id": "724d86b6",
   "metadata": {},
   "outputs": [
    {
     "data": {
      "text/plain": [
       "<AxesSubplot:xlabel='fuel'>"
      ]
     },
     "execution_count": 25,
     "metadata": {},
     "output_type": "execute_result"
    },
    {
     "data": {
      "image/png": "[encoded data removed]",
      "text/plain": [
       "<Figure size 432x288 with 1 Axes>"
      ]
     },
     "metadata": {
      "needs_background": "light"
     },
     "output_type": "display_data"
    }
   ],
   "source": [
    "ct.plot(kind = 'bar')"
   ]
  },
  {
   "cell_type": "raw",
   "id": "7e46ea8b",
   "metadata": {},
   "source": [
    "c. Heatmaps"
   ]
  },
  {
   "cell_type": "code",
   "execution_count": 23,
   "id": "c32a7b27",
   "metadata": {},
   "outputs": [
    {
     "data": {
      "text/plain": [
       "<AxesSubplot:xlabel='year', ylabel='fuel'>"
      ]
     },
     "execution_count": 23,
     "metadata": {},
     "output_type": "execute_result"
    },
    {
     "data": {
      "image/png": "[encoded data removed]",
      "text/plain": [
       "<Figure size 432x288 with 2 Axes>"
      ]
     },
     "metadata": {
      "needs_background": "light"
     },
     "output_type": "display_data"
    }
   ],
   "source": [
    "sns.heatmap(ct)"
   ]
  },
  {
   "cell_type": "markdown",
   "id": "bda3b852",
   "metadata": {},
   "source": [
    "# Measure of centre Tendence ----> day 2"
   ]
  },
  {
   "cell_type": "markdown",
   "id": "d12bb53b",
   "metadata": {},
   "source": [
    "# Descriptive Statistics\n",
    "Visualization Techniques ,\n",
    "Measure of Central Tendency , \n",
    "Measure of Spread , \n",
    "Covariance and Correlation ,"
   ]
  },
  {
   "cell_type": "raw",
   "id": "d95cc614",
   "metadata": {},
   "source": [
    "1. mean\n",
    "2. median\n",
    "3. mode"
   ]
  },
  {
   "cell_type": "markdown",
   "id": "f52ddf85",
   "metadata": {},
   "source": [
    "# Measure of Spread"
   ]
  },
  {
   "cell_type": "raw",
   "id": "ecbd776d",
   "metadata": {},
   "source": [
    "Measures of spread gives us an idea of how much the data is spread or varying. Some important measures of spread are :\n",
    "\n",
    "Range\n",
    "Interquartile Range (IQR)\n",
    "Variance\n",
    "Standard Deviation"
   ]
  },
  {
   "cell_type": "markdown",
   "id": "b7fe0623",
   "metadata": {},
   "source": [
    "# 1. Range\n",
    "The range describes the difference between the largest and the smallest points in your data."
   ]
  },
  {
   "cell_type": "code",
   "execution_count": 26,
   "id": "fa9b7a1c",
   "metadata": {},
   "outputs": [
    {
     "ename": "NameError",
     "evalue": "name 'iris_setosa' is not defined",
     "output_type": "error",
     "traceback": [
      "\u001b[1;31m---------------------------------------------------------------------------\u001b[0m",
      "\u001b[1;31mNameError\u001b[0m                                 Traceback (most recent call last)",
      "\u001b[1;32m<ipython-input-26-f3cbfb1648ef>\u001b[0m in \u001b[0;36m<module>\u001b[1;34m\u001b[0m\n\u001b[1;32m----> 1\u001b[1;33m \u001b[0mr\u001b[0m\u001b[1;33m=\u001b[0m\u001b[0mnp\u001b[0m\u001b[1;33m.\u001b[0m\u001b[0mmax\u001b[0m\u001b[1;33m(\u001b[0m\u001b[0miris_setosa\u001b[0m\u001b[1;33m[\u001b[0m\u001b[1;34m'PL'\u001b[0m\u001b[1;33m]\u001b[0m\u001b[1;33m)\u001b[0m \u001b[1;33m-\u001b[0m \u001b[0mnp\u001b[0m\u001b[1;33m.\u001b[0m\u001b[0mmin\u001b[0m\u001b[1;33m(\u001b[0m\u001b[0miris_setosa\u001b[0m\u001b[1;33m[\u001b[0m\u001b[1;34m'PL'\u001b[0m\u001b[1;33m]\u001b[0m\u001b[1;33m)\u001b[0m\u001b[1;33m\u001b[0m\u001b[1;33m\u001b[0m\u001b[0m\n\u001b[0m\u001b[0;32m      2\u001b[0m \u001b[0mprint\u001b[0m\u001b[1;33m(\u001b[0m\u001b[1;34m\"The range is\"\u001b[0m\u001b[1;33m,\u001b[0m\u001b[0mr\u001b[0m\u001b[1;33m)\u001b[0m\u001b[1;33m\u001b[0m\u001b[1;33m\u001b[0m\u001b[0m\n",
      "\u001b[1;31mNameError\u001b[0m: name 'iris_setosa' is not defined"
     ]
    }
   ],
   "source": [
    "r=np.max(iris_setosa['PL']) - np.min(iris_setosa['PL'])\n",
    "print(\"The range is\",r)"
   ]
  },
  {
   "cell_type": "markdown",
   "id": "e3758937",
   "metadata": {},
   "source": [
    "# 2. Percentiles\n",
    "A percentile is a measure used in statistics indicating the value below which a given percentage of observations in a group of observations falls. For example, the 20th percentile is the value below which 20% of the observations may be found."
   ]
  },
  {
   "cell_type": "code",
   "execution_count": null,
   "id": "825009d7",
   "metadata": {},
   "outputs": [],
   "source": [
    "mylist=[1,2,3,4,5,6,7,8,9]"
   ]
  },
  {
   "cell_type": "code",
   "execution_count": null,
   "id": "69305bdb",
   "metadata": {},
   "outputs": [],
   "source": [
    "print(np.percentile(mylist,29))\n",
    "print(np.percentile(mylist,90))"
   ]
  },
  {
   "cell_type": "markdown",
   "id": "90211d58",
   "metadata": {},
   "source": [
    "# 3. Quartiles\n",
    "Quartiles are the values that divide a list of numbers into quarters:\n",
    "\n",
    "Put the list of numbers in order\n",
    "Then cut the list into four equal parts\n",
    "The Quartiles are at the \"cuts\""
   ]
  },
  {
   "cell_type": "code",
   "execution_count": null,
   "id": "24eb595a",
   "metadata": {},
   "outputs": [],
   "source": [
    "print(np.percentile(iris_setosa['PL'],25))\n",
    "print(np.percentile(iris_setosa['PL'],50))\n",
    "print(np.percentile(iris_setosa['PL'],75))\n",
    "print(np.percentile(iris_setosa['PL'],100))"
   ]
  },
  {
   "cell_type": "markdown",
   "id": "ff3d2b35",
   "metadata": {},
   "source": [
    "# 4. Interquartile Range\n",
    "The interquartile range (IQR) is a measure of statistical dispersion between upper (75th) and lower (25th) quartiles."
   ]
  },
  {
   "cell_type": "code",
   "execution_count": null,
   "id": "476c7c4b",
   "metadata": {},
   "outputs": [],
   "source": [
    "iqr=np.percentile(iris_setosa['PL'],75)-np.percentile(iris_setosa['PL'],25)\n",
    "print(\"The Inter Quartile Range is\",iqr)"
   ]
  },
  {
   "cell_type": "markdown",
   "id": "66468c71",
   "metadata": {},
   "source": [
    "# 5. Mean Absoulute Deviation\n",
    "The Absolute Deviation from Mean, also called Mean Absolute Deviation (MAD), describe the variation in the data set, in sense that it tells the average absolute distance of each data point in the set. It is calculated as"
   ]
  },
  {
   "cell_type": "raw",
   "id": "5312d19e",
   "metadata": {},
   "source": [
    "Example\n",
    "\n",
    "2,5,1,6,7,3,11\n",
    "\n",
    "The mean is 5\n",
    "\n",
    "(|2-5| + |5-5| + |1-5| + |6-5| + |7-5| + |3-5| + |11-5|)/7\n",
    "\n",
    "3+0+4+1+2+2+6 = 18/7 = 2.5"
   ]
  },
  {
   "cell_type": "markdown",
   "id": "955887f2",
   "metadata": {},
   "source": [
    "# 6. Variance\n",
    "Variance measures how far are data points spread out from the mean.\n",
    "\n",
    "The variance is computed by finding the difference between every data point and the mean, squaring them, summing them up and then taking the average of those numbers."
   ]
  },
  {
   "cell_type": "raw",
   "id": "88710c5b",
   "metadata": {},
   "source": [
    "The squares are used during the calculation because they weight outliers more heavily than points that are near to the mean. This prevents that differences above the mean neutralize those below the mean.\n",
    "\n",
    "Example\n",
    "\n",
    "2,5,1,6,7,3,11\n",
    "\n",
    "The mean is 5\n",
    "\n",
    "((2-5)^2 + (5-5)^2 + (1-5)^2 + (6-5)^2 + (7-5)^2 + (3-5)^2 + (11-5)^2)/7\n",
    "\n",
    "9+0+16+1+4+4+36=70/7=10\n",
    "\n"
   ]
  },
  {
   "cell_type": "raw",
   "id": "c869accb",
   "metadata": {},
   "source": [
    "The problem with Variance\n",
    "\n",
    "The problem with Variance is that because of the squaring, it is not in the same unit of measurement as the original data.\n",
    "\n",
    "Let’s say you are dealing with a dataset that contains centimeter values. Your variance would be in squared centimeters and therefore not the best measurement."
   ]
  },
  {
   "cell_type": "code",
   "execution_count": 25,
   "id": "ca7106e9",
   "metadata": {},
   "outputs": [
    {
     "ename": "NameError",
     "evalue": "name 'iris_setosa' is not defined",
     "output_type": "error",
     "traceback": [
      "\u001b[1;31m---------------------------------------------------------------------------\u001b[0m",
      "\u001b[1;31mNameError\u001b[0m                                 Traceback (most recent call last)",
      "\u001b[1;32m<ipython-input-25-180ff5fdc720>\u001b[0m in \u001b[0;36m<module>\u001b[1;34m\u001b[0m\n\u001b[1;32m----> 1\u001b[1;33m \u001b[0mnp\u001b[0m\u001b[1;33m.\u001b[0m\u001b[0mvar\u001b[0m\u001b[1;33m(\u001b[0m\u001b[0miris_setosa\u001b[0m\u001b[1;33m[\u001b[0m\u001b[1;34m'PL'\u001b[0m\u001b[1;33m]\u001b[0m\u001b[1;33m)\u001b[0m\u001b[1;33m\u001b[0m\u001b[1;33m\u001b[0m\u001b[0m\n\u001b[0m",
      "\u001b[1;31mNameError\u001b[0m: name 'iris_setosa' is not defined"
     ]
    }
   ],
   "source": [
    "np.var(iris_setosa['PL'])"
   ]
  },
  {
   "cell_type": "markdown",
   "id": "b2cde2f3",
   "metadata": {},
   "source": [
    "# 7. Variance Vs Median Absolute Deviation\n",
    "Variance is easy to work with in comparision to MAD as it works on squaring(a smooth function) the deviation in comparison to MAD where we use modulus( a non smooth function).\n",
    "\n",
    "Mathematically speaking smooth functions are easier to work with in comparison to non smooth functions"
   ]
  },
  {
   "cell_type": "markdown",
   "id": "552e2884",
   "metadata": {},
   "source": [
    "# 8. Standard Deviation\n",
    "The square root of Variance is called the Standard Deviation. It is calculated as:\n",
    "\n"
   ]
  },
  {
   "cell_type": "raw",
   "id": "fa3ac20f",
   "metadata": {},
   "source": [
    "Example\n",
    "\n",
    "2,5,1,6,7,3,11\n",
    "\n",
    "The mean is 5\n",
    "\n",
    "((2-5)^2 + (5-5)^2 + (1-5)^2 + (6-5)^2 + (7-5)^2 + (3-5)^2 + (11-5)^2)/7\n",
    "\n",
    "9+0+16+1+4+4+36 = 70/7 = 10\n",
    "\n",
    "SD=sqrt(10)=3.16"
   ]
  },
  {
   "cell_type": "code",
   "execution_count": 26,
   "id": "67798880",
   "metadata": {},
   "outputs": [
    {
     "ename": "NameError",
     "evalue": "name 'iris_setosa' is not defined",
     "output_type": "error",
     "traceback": [
      "\u001b[1;31m---------------------------------------------------------------------------\u001b[0m",
      "\u001b[1;31mNameError\u001b[0m                                 Traceback (most recent call last)",
      "\u001b[1;32m<ipython-input-26-02ed6c42213e>\u001b[0m in \u001b[0;36m<module>\u001b[1;34m\u001b[0m\n\u001b[1;32m----> 1\u001b[1;33m \u001b[0mnp\u001b[0m\u001b[1;33m.\u001b[0m\u001b[0mstd\u001b[0m\u001b[1;33m(\u001b[0m\u001b[0miris_setosa\u001b[0m\u001b[1;33m[\u001b[0m\u001b[1;34m'PL'\u001b[0m\u001b[1;33m]\u001b[0m\u001b[1;33m)\u001b[0m\u001b[1;33m\u001b[0m\u001b[1;33m\u001b[0m\u001b[0m\n\u001b[0m",
      "\u001b[1;31mNameError\u001b[0m: name 'iris_setosa' is not defined"
     ]
    }
   ],
   "source": [
    "np.std(iris_setosa['PL'])"
   ]
  },
  {
   "cell_type": "markdown",
   "id": "1e5682b9",
   "metadata": {},
   "source": [
    "# 9. Median Absolute Deviation\n",
    "MAD is the median of all the number obtained from subtracting and calculating the absolute value of every observation with the median."
   ]
  },
  {
   "cell_type": "raw",
   "id": "3b5598db",
   "metadata": {},
   "source": [
    "Example:\n",
    "\n",
    "1,3,5,6,7,8,9\n",
    "\n",
    "Median is 6\n",
    "\n",
    "|1-6|,|3-6|,|5-6|,|6-6|,|7-6|,|8-6|,|9-6|\n",
    "\n",
    "5,3,1,0,1,2,3\n",
    "\n",
    "0,1,1,2,3,3,5\n",
    "\n",
    "Median Absolute Deviation is 2"
   ]
  },
  {
   "cell_type": "code",
   "execution_count": 27,
   "id": "d946f7a1",
   "metadata": {},
   "outputs": [
    {
     "data": {
      "text/plain": [
       "2.965204437011204"
      ]
     },
     "execution_count": 27,
     "metadata": {},
     "output_type": "execute_result"
    }
   ],
   "source": [
    "from statsmodels import robust\n",
    "robust.mad(np.array([1,3,5,6,7,8,9]))"
   ]
  },
  {
   "cell_type": "markdown",
   "id": "3ca1d347",
   "metadata": {},
   "source": [
    "# 10. Standard Deviation Vs Median Absolute Deviation\n",
    "Just like mean vs median, Median Absolute Deviation is free from the effects of outliers from which Standard Deviation can suffer"
   ]
  },
  {
   "cell_type": "raw",
   "id": "27b41d4f",
   "metadata": {},
   "source": [
    "11. Box Plots"
   ]
  },
  {
   "cell_type": "code",
   "execution_count": 28,
   "id": "c6aaffc0",
   "metadata": {},
   "outputs": [
    {
     "data": {
      "text/plain": [
       "<AxesSubplot:xlabel='owner', ylabel='year'>"
      ]
     },
     "execution_count": 28,
     "metadata": {},
     "output_type": "execute_result"
    },
    {
     "data": {
      "image/png": "[encoded data removed]",
      "text/plain": [
       "<Figure size 432x288 with 1 Axes>"
      ]
     },
     "metadata": {
      "needs_background": "light"
     },
     "output_type": "display_data"
    }
   ],
   "source": [
    "sns.boxplot(x='owner',y='year',data=df)"
   ]
  },
  {
   "cell_type": "markdown",
   "id": "b396ca8f",
   "metadata": {},
   "source": [
    "# Probability Density Function"
   ]
  },
  {
   "cell_type": "raw",
   "id": "10888989",
   "metadata": {},
   "source": [
    "its a density function which is calculate kernal estimate techniques"
   ]
  },
  {
   "cell_type": "code",
   "execution_count": 29,
   "id": "c8462611",
   "metadata": {},
   "outputs": [
    {
     "name": "stderr",
     "output_type": "stream",
     "text": [
      "C:\\anaconda\\lib\\site-packages\\seaborn\\distributions.py:2164: UserWarning: `displot` is a figure-level function and does not accept the ax= paramter. You may wish to try histplot.\n",
      "  warnings.warn(msg, UserWarning)\n",
      "C:\\anaconda\\lib\\site-packages\\seaborn\\distributions.py:2164: UserWarning: `displot` is a figure-level function and does not accept the ax= paramter. You may wish to try histplot.\n",
      "  warnings.warn(msg, UserWarning)\n",
      "C:\\anaconda\\lib\\site-packages\\seaborn\\distributions.py:2164: UserWarning: `displot` is a figure-level function and does not accept the ax= paramter. You may wish to try histplot.\n",
      "  warnings.warn(msg, UserWarning)\n",
      "C:\\anaconda\\lib\\site-packages\\seaborn\\distributions.py:2164: UserWarning: `displot` is a figure-level function and does not accept the ax= paramter. You may wish to try histplot.\n",
      "  warnings.warn(msg, UserWarning)\n",
      "C:\\anaconda\\lib\\site-packages\\seaborn\\distributions.py:2164: UserWarning: `displot` is a figure-level function and does not accept the ax= paramter. You may wish to try histplot.\n",
      "  warnings.warn(msg, UserWarning)\n"
     ]
    },
    {
     "data": {
      "text/plain": [
       "<seaborn.axisgrid.FacetGrid at 0x1ea9bf17700>"
      ]
     },
     "execution_count": 29,
     "metadata": {},
     "output_type": "execute_result"
    },
    {
     "data": {
      "image/png": "[encoded data removed]",
      "text/plain": [
       "<Figure size 433.125x360 with 1 Axes>"
      ]
     },
     "metadata": {
      "needs_background": "light"
     },
     "output_type": "display_data"
    },
    {
     "data": {
      "image/png": "[encoded data removed]",
      "text/plain": [
       "<Figure size 360x360 with 1 Axes>"
      ]
     },
     "metadata": {
      "needs_background": "light"
     },
     "output_type": "display_data"
    },
    {
     "data": {
      "image/png": "[encoded data removed]",
      "text/plain": [
       "<Figure size 360x360 with 1 Axes>"
      ]
     },
     "metadata": {
      "needs_background": "light"
     },
     "output_type": "display_data"
    },
    {
     "data": {
      "image/png": "[encoded data removed]",
      "text/plain": [
       "<Figure size 360x360 with 1 Axes>"
      ]
     },
     "metadata": {
      "needs_background": "light"
     },
     "output_type": "display_data"
    },
    {
     "data": {
      "image/png": "[encoded data removed]",
      "text/plain": [
       "<Figure size 360x360 with 1 Axes>"
      ]
     },
     "metadata": {
      "needs_background": "light"
     },
     "output_type": "display_data"
    },
    {
     "data": {
      "image/png": "[encoded data removed]",
      "text/plain": [
       "<Figure size 360x360 with 1 Axes>"
      ]
     },
     "metadata": {
      "needs_background": "light"
     },
     "output_type": "display_data"
    }
   ],
   "source": [
    "sns.FacetGrid(df , hue = 'fuel' , height = 5).map(sns.displot ,'year' ).add_legend()"
   ]
  },
  {
   "cell_type": "markdown",
   "id": "a362cabf",
   "metadata": {},
   "source": [
    "# Cumulative Distribution Function"
   ]
  },
  {
   "cell_type": "raw",
   "id": "8baad200",
   "metadata": {},
   "source": [
    "The cumulative distribution function is used to describe the probability distribution of random variables.\n",
    "It can be used to describe the probability for a discrete, continuous or mixed variable. \n",
    "It is obtained by summing up the probability density function and getting the cumulative probability for a random variable."
   ]
  },
  {
   "cell_type": "markdown",
   "id": "89899e7f",
   "metadata": {},
   "source": [
    "# Normal Distribution"
   ]
  },
  {
   "cell_type": "raw",
   "id": "28438466",
   "metadata": {},
   "source": [
    "Normal distribution, also known as the Gaussian distribution, is a probability distribution that is symmetric about the mean, showing that data near the mean are more frequent in occurrence than data far from the mean. \n",
    "In graph form, normal distribution will appear as a bell curve."
   ]
  },
  {
   "cell_type": "markdown",
   "id": "e22a79de",
   "metadata": {},
   "source": [
    "# Z-score and Z-tables"
   ]
  },
  {
   "cell_type": "raw",
   "id": "d940ce32",
   "metadata": {},
   "source": [
    "A Z-score is a numerical measurement that describes a value's relationship to the mean of a group of values.\n",
    "Z-score is measured in terms of standard deviations from the mean."
   ]
  },
  {
   "cell_type": "markdown",
   "id": "10d35791",
   "metadata": {},
   "source": [
    "# Central Limit Theorem"
   ]
  },
  {
   "cell_type": "raw",
   "id": "4fe0a0f3",
   "metadata": {},
   "source": [
    "The central limit theorem in statistics states that, given a sufficiently large sample size, the sampling distribution of the mean for a variable will approximate a normal distribution regardless of that variable's distribution in the population."
   ]
  },
  {
   "cell_type": "code",
   "execution_count": null,
   "id": "e0998a6c",
   "metadata": {},
   "outputs": [],
   "source": []
  }
 ],
 "metadata": {
  "kernelspec": {
   "display_name": "Python 3",
   "language": "python",
   "name": "python3"
  },
  "language_info": {
   "codemirror_mode": {
    "name": "ipython",
    "version": 3
   },
   "file_extension": ".py",
   "mimetype": "text/x-python",
   "name": "python",
   "nbconvert_exporter": "python",
   "pygments_lexer": "ipython3",
   "version": "3.8.8"
  }
 },
 "nbformat": 4,
 "nbformat_minor": 5
}
